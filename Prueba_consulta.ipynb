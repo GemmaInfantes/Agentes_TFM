{
 "cells": [
  {
   "cell_type": "code",
   "execution_count": 1,
   "id": "d3cb18f7-5c05-4707-926a-4ffdf22fe66b",
   "metadata": {},
   "outputs": [
    {
     "name": "stdout",
     "output_type": "stream",
     "text": [
      "Número de entidades: 0\n"
     ]
    }
   ],
   "source": [
    "from pymilvus import Collection, connections\n",
    "\n",
    "connections.connect(alias=\"default\", host=\"localhost\", port=\"19530\")\n",
    "c = Collection(\"documentos_legales_v2\")\n",
    "print(\"Número de entidades:\", c.num_entities)"
   ]
  },
  {
   "cell_type": "code",
   "execution_count": 3,
   "id": "64a2bf1b-1c55-477b-8a90-1ff5b61bf2cb",
   "metadata": {},
   "outputs": [],
   "source": [
    "# # Consulta los primeros 5 registros y muestra el campo metadata\n",
    "# res = c.query(expr=None, output_fields=[\"metadata\"], limit=5)\n",
    "# for r in res:\n",
    "#     print(r)"
   ]
  },
  {
   "cell_type": "code",
   "execution_count": 5,
   "id": "f0a1a970-c98e-486a-bad4-95729fd12ddb",
   "metadata": {},
   "outputs": [
    {
     "name": "stdout",
     "output_type": "stream",
     "text": [
      "Ahora hay: 0 entidades\n"
     ]
    }
   ],
   "source": [
    "from pymilvus import Collection, connections, FieldSchema, CollectionSchema, DataType, utility\n",
    "\n",
    "connections.connect(alias=\"default\", host=\"localhost\", port=\"19530\")\n",
    "collection_name = \"documentos_legales_v1\"\n",
    "\n",
    "if collection_name not in utility.list_collections():\n",
    "    fields = [\n",
    "        FieldSchema(name=\"id\", dtype=DataType.INT64, is_primary=True, auto_id=True),\n",
    "        FieldSchema(name=\"embedding\", dtype=DataType.FLOAT_VECTOR, dim=384),\n",
    "        FieldSchema(name=\"metadata\", dtype=DataType.JSON)\n",
    "    ]\n",
    "    schema = CollectionSchema(fields, description=\"Test\")\n",
    "    c = Collection(name=collection_name, schema=schema)\n",
    "else:\n",
    "    c = Collection(collection_name)\n",
    "\n",
    "# Inserta un registro de prueba\n",
    "import numpy as np\n",
    "dummy_embedding = np.random.rand(384).tolist()\n",
    "dummy_metadata = {\"test\": \"ok\", \"foo\": 123}\n",
    "c.insert([[dummy_embedding], [dummy_metadata]])\n",
    "print(\"Ahora hay:\", c.num_entities, \"entidades\")"
   ]
  },
  {
   "cell_type": "code",
   "execution_count": 6,
   "id": "cb1be43b-1447-4646-a628-9d9ad2057360",
   "metadata": {},
   "outputs": [
    {
     "data": {
      "text/plain": [
       "(insert count: 1, delete count: 0, upsert count: 0, timestamp: 458957478936444929, success count: 1, err count: 0"
      ]
     },
     "execution_count": 6,
     "metadata": {},
     "output_type": "execute_result"
    }
   ],
   "source": [
    "c.insert([\n",
    "    [dummy_embedding],  # embedding\n",
    "    [dummy_metadata]    # metadata\n",
    "])"
   ]
  },
  {
   "cell_type": "code",
   "execution_count": 7,
   "id": "54675a56-c39c-4b6f-9679-869bbd848ac8",
   "metadata": {},
   "outputs": [
    {
     "name": "stdout",
     "output_type": "stream",
     "text": [
      "Ahora hay: 3 entidades\n"
     ]
    }
   ],
   "source": [
    "from pymilvus import Collection, connections, FieldSchema, CollectionSchema, DataType, utility\n",
    "\n",
    "connections.connect(alias=\"default\", host=\"localhost\", port=\"19530\")\n",
    "collection_name = \"documentos_legales_v2\"\n",
    "\n",
    "if collection_name not in utility.list_collections():\n",
    "    fields = [\n",
    "        FieldSchema(name=\"id\", dtype=DataType.INT64, is_primary=True, auto_id=True),\n",
    "        FieldSchema(name=\"embedding\", dtype=DataType.FLOAT_VECTOR, dim=384),\n",
    "        FieldSchema(name=\"metadata\", dtype=DataType.JSON)\n",
    "    ]\n",
    "    schema = CollectionSchema(fields, description=\"Test\")\n",
    "    c = Collection(name=collection_name, schema=schema)\n",
    "else:\n",
    "    c = Collection(collection_name)\n",
    "\n",
    "import numpy as np\n",
    "dummy_embedding = np.random.rand(384).tolist()\n",
    "dummy_metadata = {\"test\": \"ok\", \"foo\": 123}\n",
    "\n",
    "# El orden debe ser [embedding, metadata] porque id es auto_id\n",
    "c.insert([\n",
    "    [dummy_embedding],  # embedding\n",
    "    [dummy_metadata]    # metadata\n",
    "])\n",
    "c.flush()\n",
    "print(\"Ahora hay:\", c.num_entities, \"entidades\")"
   ]
  },
  {
   "cell_type": "code",
   "execution_count": 9,
   "id": "ed4d8b24-fbe8-4729-b662-c9858ff674ff",
   "metadata": {},
   "outputs": [
    {
     "name": "stdout",
     "output_type": "stream",
     "text": [
      "Número de entidades: 0\n",
      "data: ['{\\'embedding\\': [-0.046585135, 0.027574357, -0.03498315, -0.10311836, 0.011605326, 0.030422999, 0.0003140924, 0.08414453, -0.030142967, 0.12352099, 0.045272782, -0.05346095, 0.0064016995, 0.026048493, 0.097355545, 0.018193899, -0.04329276, -0.01140756, -0.019126974, 0.09105185, 0.15103193, 0.06415071, -0.086258575, 0.06979194, -0.07092241, -0.087243356, -0.029582843, -0.014069104, -0.062322676, -0.0260604, 0.061108753, 0.036916103, 0.099732466, -0.0077993167, 0.038294338, -0.05456235, -0.031549323, -0.017052626, 0.009323528, 0.03601632, -0.07757551, -0.0141908545, -0.07065223, -0.025707131, -0.053608812, -0.038139325, 0.04254515, 0.094629385, -0.044809874, -0.051466815, -0.022018146, -0.03465388, -0.012488431, -0.019610645, -0.064117566, -0.016599478, -0.021933006, -0.07089551, 0.062493224, 0.021384297, 0.014294335, 0.053591393, -0.040102206, -0.033624716, 0.027430259, 0.010725921, 0.07822209, -0.050778177, -0.06733895, 0.08100739, 0.09119888, -0.055493467, 0.034370877, -0.0011559825, -0.043179706, 0.039429504, 0.020433953, 0.06521839, -0.027230756, -0.112448126, -0.013042163, -0.033719167, -0.05582029, -0.054513704, 0.034411706, -0.010888801, -0.040172987, 0.06940078, 0.08552653, 0.009698513, 0.013777899, 0.02704657, -0.042347122, 0.0597795, -0.04211266, 0.021498641, 0.036131673, -0.022116112, 0.0059518716, 0.02579081, 0.028402174, 0.014519006, -0.028551819, -0.018685214, -0.0024761308, -0.04906217, 0.059608717, -0.05663685, -0.015662672, 0.015252745, -0.05896442, -0.06354509, 0.023979982, -0.012113515, -0.089487866, -0.0051918197, -0.02700703, 0.0006383146, 0.078216776, -0.1173542, 0.08580842, 0.015669996, 0.04646826, 0.0029591888, -0.014598868, 0.024247615, 0.0040160567, 1.5676553e-32, 0.007107759, -0.018230947, -0.020461515, 0.10152907, 0.03618191, 0.04394983, -0.0018220687, 0.087400205, 0.004120502, -0.029153408, -0.08109784, -0.057091948, 0.07363106, -0.00887229, 0.064576685, -0.004802475, -0.019925304, -0.057871845, 0.018951887, 0.049888175, 0.021598486, 0.05521141, -0.0063442145, 0.028271481, 0.03150173, 0.10548641, -0.040656775, -0.022597158, 0.0025765449, 0.071037054, 0.058504328, -0.068254314, 0.0070256344, 0.0004161766, 0.017954914, -0.02605076, 0.0034716986, -0.0020778282, 0.00093698496, 0.022311516, -0.059748285, -0.018697964, -0.046545967, 0.040135667, 0.006344266, -0.08317864, 0.061025403, 0.10449434, 0.03944939, -0.008572891, -0.074667625, -0.013848349, -0.078344345, -0.12627783, 0.00902249, 0.014221129, -0.07835528, 0.12257354, 0.001136687, -0.012749045, -0.009780291, 0.07377207, 0.056946613, -0.026053287, -0.027302124, 0.010714964, 0.027625494, -0.037482757, 0.12260456, -0.057872396, -0.06694758, -0.016522013, -0.00070121046, 0.024110403, -0.012093389, -0.0055224705, 0.04487921, 0.046718683, -0.010038665, -0.00061198807, -0.042817026, 0.0150158275, 0.026260938, 0.067876734, 0.11608645, -0.0153939705, 0.055833887, 0.0375853, -0.05765626, 0.024381075, 0.07803536, -0.008809642, -0.02738648, -0.010873223, 0.11166388, -1.6389912e-32, -0.044787977, 0.004965414, -0.07088338, 0.02200754, -0.011576312, -0.013632061, -0.014238235, -0.11521082, -0.037206832, -0.16923822, -0.080395296, -0.040028814, 0.034775227, -0.028654201, -0.06466148, 0.0800769, -0.1262236, -0.048453066, -0.075981066, -0.045014277, 0.05963258, 0.049840484, 0.00895357, -0.002960404, 0.034634344, -0.06052957, -0.061497606, 0.041433074, -0.032273494, 0.014985999, -0.03778441, 0.015792659, -0.085682705, -0.008367398, -0.10582627, -0.034289885, 0.022546703, -0.022074198, -0.014267147, 0.118014276, 0.022548454, 0.059006665, 0.09432223, -0.04519469, -0.07873153, -0.0052102534, -0.02717058, -0.13319822, 0.067518905, -0.034310862, 0.044018984, -0.019217286, -0.03533599, -0.018673174, 0.06224523, -0.0645902, 0.0028963438, -0.035142325, -0.0046276315, -0.017458491, 0.05867044, 0.06745404, 0.008316169, -0.00096262404, 0.06163826, -0.051572077, -0.05184928, 0.016443627, 0.03891829, -0.022675795, 0.029359924, -0.10367418, -0.10147061, -0.033705242, -0.05641515, 0.047108073, -0.034900136, 0.05457278, 0.007603602, 0.022087416, -0.044672113, 0.0068844534, 0.003562841, -0.052570038, -0.013765194, 0.032118093, -0.0010323628, 0.06488666, 0.007355366, 0.035514783, -0.018721417, 0.03745833, 0.03537336, -0.029777689, 0.005710013, -7.1149366e-08, 0.029839467, -0.033174343, -0.009007973, -0.0217136, 0.049628478, 0.00816226, -0.01317542, -0.003314544, 0.043063324, 0.0601529, 0.009747093, 0.025672564, -0.007262853, -0.009373535, -0.05872566, -0.011906649, 0.030285249, 0.022803165, -0.08696156, -0.035412192, 0.04263885, 0.01220291, -0.08078289, -0.04395885, 0.058680512, -0.054069318, -0.0708171, 0.009485679, -0.043514937, 0.060077075, -0.062601514, -0.02150512, -0.020026498, -0.120152585, 0.017983386, 0.031100102, -0.014118125, 0.019522285, -0.016825724, 0.03757212, 0.057532463, -0.04177755, -0.08959146, 0.018686065, 0.026439553, -0.085389294, -0.06959181, 0.025868785, -0.020892536, -0.016959528, -0.05587794, -0.02967944, 0.031515535, 0.010795486, 0.011329159, 0.020595793, -0.032285742, 0.046860624, -0.038683727, 0.021281272, 0.046019427, 0.06663188, -0.022611348, -0.018957185], \\'metadata\\': {\\'language\\': {\\'lang\\': \\'es\\', \\'prob\\': 1.0}, \\'token_count\\': 1005, \\'keywords\\': [\\'CONTRATO DE COMPRAVENTA\\', \\'INMUEBLE\\', \\'VENDEDOR\\', \\'COMPRADOR\\', \\'ARRAS PENITENCIALES\\', \\'ESCRITURA PÚBLICA\\', \\'NOTARIO\\', \\'REGISTRO DE LA PROPIEDAD\\', \\'CARGAS\\', \\'IMPUESTO DE TRANSMISIONES PATRIMONIALES\\'], \\'summary\\': \"El documento titulado \\'CONTRATO DE COMPRAVENTA DE INMUEBLE\\' detalla un acuerdo realizado en Málaga el 10 de marzo de 2025, entre José Luis Moreno García como vendedor y Sara Ramírez Ortiz como compradora. El contrato establece la venta de un inmueble situado en Calle Granados 30, Málaga, por un total de 250,000 euros, con condiciones específicas sobre pagos, garantías, documentación y responsabilidades de ambas partes, incluyendo la transmisión de la posesión del inmueble al completar el pago y la firma notarial.\", \\'key_points\\': [\\'Las partes involucradas son José Luis Moreno García (vendedor) y Sara Ramírez Ortiz (compradora), ambos con capacidad legal para el contrato.\\', \\'El objeto de venta es un inmueble en Calle Granados 30, Málaga, libre de cargas y gravámenes.\\', \\'El precio acordado es de 250,000 euros, con un pago inicial de 10,000 euros y el resto al momento de la firma ante Notario.\\', \\'El vendedor asegura que el inmueble está libre de deudas y cargas, entregando documentación relevante como certificados de eficiencia energética y deudas municipales.\\', \\'Los gastos derivados de la transacción, como impuestos y honorarios notariales, serán asumidos por el comprador, mientras que el vendedor cubrirá los gastos de cancelación de cargas existentes.\\', \\'El comprador acepta el estado actual del inmueble, renunciando a reclamaciones futuras salvo por vicios ocultos.\\', \\'El contrato incluye cláusulas de arras penitenciales, especificando penalizaciones por desistimiento o incumplimiento.\\', \\'La posesión del inmueble se transferirá al comprador el día de la firma de la escritura pública, una vez realizado el pago completo.\\'], \\'recommended_actions\\': [], \\'insights\\': [\\'El contrato establece que el precio total de la compraventa es de 250,000 euros, detallando que 10,000 euros se pagarán de inmediato como señal y arras penitenciales, y los 240,000 euros restantes se abonarán en el momento de la firma de la escritura pública ante Notario.\\', \\'El VENDEDOR garantiza que el inmueble se encuentra libre de cargas y gravámenes, y especifica que no existen hipotecas ni deudas de tasas municipales pendientes sobre la propiedad.\\', \\'Los gastos e impuestos derivados de la compraventa, incluyendo el Impuesto de Transmisiones Patrimoniales, honorarios de notaría, y gastos de registro, serán responsabilidad del COMPRADOR.\\', \\'Si el COMPRADOR decide desistir del contrato, perderá las arras entregadas como señal. Por otro lado, si el VENDEDOR incumple, deberá devolver el doble de la cantidad recibida por arras.\\', \\'La entrega de la posesión del inmueble se realizará el día de la firma de la escritura pública, una vez que el COMPRADOR haya pagado el precio total acordado.\\'], \\'structure\\': [{\\'section_title\\': \\'REUNIDOS\\', \\'subsections\\': []}, {\\'section_title\\': \\'INTERVIENEN\\', \\'subsections\\': []}, {\\'section_title\\': \\'EXPONEN\\', \\'subsections\\': [\\'I. Que el VENDEDOR es propietario del inmueble sito en Calle Granados 30, 29003 Málaga, inscrito en el Registro de la Propiedad de Málaga, Tomo 500, Libro 10, Folio 25, Finca número 12345.\\', \\'II. Que el COMPRADOR está interesado en adquirir el referido inmueble, conforme a las condiciones que se detallan en las siguientes cláusulas.\\', \\'III. Que ambas partes, reconociendo la legitimidad y capacidad necesarias, convienen en formalizar el presente contrato, sujeto a las siguientes:\\']}, {\\'section_title\\': \\'CLÁUSULAS\\', \\'subsections\\': [\\'PRIMERA. OBJETO.\\', \\'SEGUNDA. PRECIO Y FORMA DE PAGO.\\', \\'2.1. El precio de la compraventa se fija en la cantidad de 250.000 (doscientos cincuenta mil) euros, que el COMPRADOR se obliga a pagar al VENDEDOR en la siguiente forma:\\', \\'2.2. El impago de cualquiera de las cantidades en los plazos establecidos facultará al VENDEDOR para resolver el contrato y retener las arras entregadas, sin perjuicio de otras acciones legales que pudieran corresponderle.\\', \\'TERCERA. FIANZAS Y GARANTÍAS.\\', \\'CUARTA. ENTREGAS DE DOCUMENTACIÓN.\\', \\'QUINTA. GASTOS E IMPUESTOS.\\', \\'5.1. Serán por cuenta del COMPRADOR los gastos e impuestos derivados de la presente compraventa, tales como:\\', \\'5.2. Serán por cuenta del VENDEDOR los gastos de cancelación de cargas, si existieran, y los gastos que pudieran derivarse de la obtención de certificados y documentos relativos a la titularidad del Inmueble hasta la fecha de la firma de la escritura pública.\\', \\'SEXTA. ESTADO DE CONSERVACIÓN E INSPECCIÓN.\\', \\'6.1. El COMPRADOR declara haber examinado el Inmueble, encontrándolo en el estado de conservación que da por bueno, renunciando a posteriores reclamaciones sobre el estado físico, estructural o jurídico, salvo vicios ocultos conforme a lo dispuesto en el Código Civil.\\', \\'6.2. El VENDEDOR se obliga a mantener la posesión del Inmueble en las condiciones en que se encuentra, hasta la firma de la escritura pública de compraventa, asumiendo la responsabilidad de cualquier daño o pérdida que sufra el Inmueble durante dicho período.\\', \\'SÉPTIMA. ARRAS.\\', \\'OCTAVA. TRANSMISIÓN DE LA POSESIÓN.\\']}], \\'title\\': \\'CONTRATO_COMPRAVENTA_INMUEBLE\\', \\'text\\': \\'CONTRATO DE COMPRAVENTA DE INMUEBLE\\\\n\\\\nEn Málaga, a 10 de marzo de 2025.\\\\n\\\\nREUNIDOS\\\\n\\\\nDe una parte, DON JOSÉ LUIS MORENO GARCÍA, mayor de edad, con domicilio en Calle Larios 15, 29005 Málaga, y titular de DNI/NIE número 12349876L, en adelante, el “VENDEDOR”.\\\\n\\\\nY de otra parte, DOÑA SARA RAMÍREZ ORTIZ, mayor de edad, con domicilio en Calle Strachan 8, 29002 Málaga, y titular de DNI/NIE número 23450987M, en adelante, el “COMPRADOR”.\\\\n\\\\nINTERVIENEN\\\\n\\\\nEl VENDEDOR, en su propio nombre y derecho, y el COMPRADOR, en su propio nombre y derecho, quienes se reconocen mutuamente capacidad legal suficiente para formalizar el presente contrato de compraventa de inmueble, y a tal efecto,\\\\n\\\\nEXPONEN\\\\n\\\\nI.    Que el VENDEDOR es propietario del inmueble sito en Calle Granados 30, 29003 Málaga, inscrito en el Registro de la Propiedad de Málaga, Tomo 500, Libro 10, Folio 25, Finca número 12345.\\\\n\\\\nII.   Que el COMPRADOR está interesado en adquirir el referido inmueble, conforme a las condiciones que se detallan en las siguientes cláusulas.\\\\n\\\\nIII.  Que ambas partes, reconociendo la legitimidad y capacidad necesarias, convienen en formalizar el presente contrato, sujeto a las siguientes:\\\\n\\\\nCLÁUSULAS\\\\n\\\\nPRIMERA. OBJETO.  \\\\n\\\\n\\\\n\\\\nEl VENDEDOR vende y transmite al COMPRADOR, y este adquiere, el pleno dominio del inmueble descrito en el Expositivo I, junto con todas sus instalaciones, anejos y accesorios, libre de cargas, gravámenes, servidumbres y ocupantes, con destino a uso residencia habitual.\\\\n\\\\nSEGUNDA. PRECIO Y FORMA DE PAGO.  \\\\n\\\\n2.1. El precio de la compraventa se fija en la cantidad de 250.000 (doscientos cincuenta mil) euros, que el COMPRADOR se obliga a pagar al VENDEDOR en la siguiente forma:  \\\\n\\\\n    a) Cantidad de 10.000 (diez mil) euros en concepto de señal y arras penitenciales, entregados en este acto mediante transferencia bancaria a la cuenta ESSP 1234 5678 9012 3456 7890.  \\\\n\\\\n    b) El resto del precio, cantidad 240.000 (doscientos cuarenta mil) euros, se pagará mediante certificación bancaria justificativa en el momento de la firma de la escritura pública de compraventa ante Notario.\\\\n\\\\n2.2. El impago de cualquiera de las cantidades en los plazos establecidos facultará al VENDEDOR para resolver el contrato y retener las arras entregadas, sin perjuicio de otras acciones legales que pudieran corresponderle.\\\\n\\\\nTERCERA. FIANZAS Y GARANTÍAS.  \\\\n\\\\nEl VENDEDOR garantiza que el Inmueble se encuentra libre de todo tipo de cargas, gravámenes, deudas, tributos y demás obligaciones fiscales o municipales, salvo las que se especifican a continuación:  \\\\n\\\\n   a) No existen cargas registrales ni hipotecas sobre la finca.  \\\\n\\\\n   b) No hay deudas de tasas municipales pendientes.\\\\n\\\\nCUARTA. ENTREGAS DE DOCUMENTACIÓN.  \\\\n\\\\nEn este acto, el VENDEDOR entrega al COMPRADOR la siguiente documentación:  \\\\n\\\\n   a) Nota simple registral actualizada nº 123456.  \\\\n\\\\n   b) Certificado de eficiencia energética nº 654321.  \\\\n\\\\n   c) Certificado de inexistencia de deudas de comunidad de propietarios nº 112233.  \\\\n\\\\n   d) Último recibo de IBI del año 2024.  \\\\n\\\\n   e) Certificado de suministros (agua, electricidad, gas) del año 2024.  \\\\n\\\\n   f) Proyecto de escritura pública de compraventa.\\\\n\\\\n\\\\n\\\\nQUINTA. GASTOS E IMPUESTOS.  \\\\n\\\\n5.1. Serán por cuenta del COMPRADOR los gastos e impuestos derivados de la presente compraventa, tales como:  \\\\n\\\\n    a) Impuesto de Transmisiones Patrimoniales (ITP).  \\\\n\\\\n    b) Honorarios de Notaría y Registro de la Propiedad.  \\\\n\\\\n    c) Gastos de gestoría y liquidación de impuestos.  \\\\n\\\\n    d) Gastos de escrituración y registro.\\\\n\\\\n5.2. Serán por cuenta del VENDEDOR los gastos de cancelación de cargas, si existieran, y los gastos que pudieran derivarse de la obtención de certificados y documentos relativos a la titularidad del Inmueble hasta la fecha de la firma de la escritura pública.\\\\n\\\\nSEXTA. ESTADO DE CONSERVACIÓN E INSPECCIÓN.  \\\\n\\\\n6.1. El COMPRADOR declara haber examinado el Inmueble, encontrándolo en el estado de conservación que da por bueno, renunciando a posteriores reclamaciones sobre el estado físico, estructural o jurídico, salvo vicios ocultos conforme a lo dispuesto en el Código Civil.\\\\n\\\\n6.2. El VENDEDOR se obliga a mantener la posesión del Inmueble en las condiciones en que se encuentra, hasta la firma de la escritura pública de compraventa, asumiendo la responsabilidad de cualquier daño o pérdida que sufra el Inmueble durante dicho período.\\\\n\\\\nSÉPTIMA. ARRAS.  \\\\n\\\\nLas partes convienen que la cantidad entregada en concepto de señal constituye arras penitenciales, a los efectos previstos en el artículo 1454 del Código Civil. En caso de desistimiento por parte del COMPRADOR, éste perderá las arras entregadas; en caso de incumplimiento por parte del VENDEDOR, éste devolverá el doble de la cantidad recibida por arras.\\\\n\\\\nOCTAVA. TRANSMISIÓN DE LA POSESIÓN.  \\\\n\\\\nLa entrega de la posesión material y jurídica del Inmueble por parte del VENDEDOR al COMPRADOR tendrá lugar el día de la firma de la escritura pública, una vez satisfecho el precio en su totalidad, formalizándose la correspondiente acta de entrega de llaves.\\\\n\\\\nNOVENA. GASTOS DE COMUNIDAD Y SUMINISTROS.  \\\\n\\\\n\\\\n\\\\nLos gastos de comunidad, suministros (agua, electricidad, gas) y recibos de servicios serán prorrateados proporcionalmente por días desde el inicio del año hasta la fecha de firma de la escritura pública. A partir de dicha fecha, correrán a cargo del COMPRADOR.\\\\n\\\\nDÉCIMA. RESOLUCIÓN DE CONFLICTOS.  \\\\n\\\\n10.1. Las partes, de mutuo acuerdo, se someten a la Mediación Previa Obligatoria para la resolución de controversias que pudieran derivarse del presente contrato, según lo dispuesto en la Ley 5/2012, de 6 de julio, de mediación en asuntos civiles y mercantiles.\\\\n\\\\n10.2. En caso de no alcanzarse acuerdo en mediación, ambas partes se someten a la jurisdicción de los Juzgados y Tribunales de Málaga, con renuncia a cualquier otro fuero que pudiera corresponderles.\\\\n\\\\nUNDÉCIMA. LEY APLICABLE.  \\\\n\\\\nEl presente contrato se regirá e interpretará de conformidad con las disposiciones del Código Civil, el Texto Refundido de la Ley del Catastro Inmobiliario, la Ley de Enjuiciamiento Civil, la Ley de Arrendamientos Urbanos y demás normativa aplicable.\\\\n\\\\nY en prueba de conformidad, firman el presente contrato, en duplicado ejemplar, en el lugar y fecha indicados.\\\\n\\\\nEL VENDEDOR:                                           EL COMPRADOR:  \\\\n\\\\n_______________________________      _______________________________  \\\\n\\\\nD. José Luis Moreno García                           Dª. Sara Ramírez Ortiz  \\\\n\\\\nDNI 12349876L                                                  DNI 23450987M  \\\\n\\\\nANEXO I: CERTIFICADOS APORTADOS  \\\\n\\\\n   1. Nota simple registral nº 123456.  \\\\n\\\\n   2. Certificado de eficiencia energética nº 654321.  \\\\n\\\\n   3. Certificado de deudas de comunidad nº 112233.  \\\\n\\\\n   4. Último recibo de IBI (2024).  \\\\n\\\\n   5. Certificado de suministros nº 2024.  \\', \\'source\\': \\'uploaded_docs\\\\\\\\CONTRATO_COMPRAVENTA_INMUEBLE.docx\\', \\'total_pages\\': 1, \\'topics\\': [\\'Formalización del contrato de compraventa de un inmueble\\', \\'Condiciones y cláusulas de pago del inmueble\\', \\'Garantías y entrega de documentación relevante por el vendedor\\', \\'Distribución de gastos e impuestos entre comprador y vendedor\\', \\'Entrega de posesión y condiciones de conservación del inmueble\\']}, \\'id\\': 458955001465092393}']\n"
     ]
    }
   ],
   "source": [
    "from pymilvus import connections, Collection\n",
    "\n",
    "connections.connect(\"default\", host=\"localhost\", port=\"19530\")\n",
    "collection = Collection(\"documentos_legales_v2\")\n",
    "print(\"Número de entidades:\", collection.num_entities)\n",
    "results = collection.query(expr=\"id > 0\", output_fields=[\"*\"])\n",
    "print(results)\n"
   ]
  },
  {
   "cell_type": "code",
   "execution_count": 10,
   "id": "d64761e2-177e-49ed-a39e-2fb54819602a",
   "metadata": {},
   "outputs": [
    {
     "name": "stdout",
     "output_type": "stream",
     "text": [
      "=== VERIFICACIÓN DE DATOS EN MILVUS ===\n",
      "Nombre de la colección: documentos_legales_v2\n",
      "Número de entidades: 0\n",
      "\n",
      "=== DATOS ENCONTRADOS: 1 entidades ===\n",
      "\n",
      "--- Entidad 1 ---\n",
      "ID: 458955001465092393\n",
      "Título: CONTRATO_COMPRAVENTA_INMUEBLE\n",
      "Idioma: es\n",
      "Tokens: 1005\n",
      "Keywords: ['CONTRATO DE COMPRAVENTA', 'INMUEBLE', 'VENDEDOR']...\n",
      "Resumen: El documento titulado 'CONTRATO DE COMPRAVENTA DE INMUEBLE' detalla un acuerdo realizado en Málaga e...\n",
      "Insights: 5 encontrados\n",
      "  1. El contrato establece que el precio total de la compraventa es de 250,000 euros,...\n",
      "  2. El VENDEDOR garantiza que el inmueble se encuentra libre de cargas y gravámenes,...\n",
      "Estructura: 4 secciones\n",
      "  1. REUNIDOS\n",
      "  2. INTERVIENEN\n",
      "\n",
      "=== VERIFICACIÓN COMPLETADA ===\n",
      "Si ves datos aquí pero no en Attu, el problema es de visualización en Attu.\n",
      "Prueba a:\n",
      "1. Recargar la página de Attu\n",
      "2. Verificar que no hay filtros activos\n",
      "3. Hacer clic en el campo 'metadata' para expandirlo\n",
      "4. Reiniciar Attu si es necesario\n"
     ]
    }
   ],
   "source": [
    "from pymilvus import connections, Collection\n",
    "import json\n",
    "\n",
    "# Conectar a Milvus\n",
    "connections.connect(\"default\", host=\"localhost\", port=\"19530\")\n",
    "collection = Collection(\"documentos_legales_v2\")\n",
    "\n",
    "print(\"=== VERIFICACIÓN DE DATOS EN MILVUS ===\")\n",
    "print(f\"Nombre de la colección: {collection.name}\")\n",
    "print(f\"Número de entidades: {collection.num_entities}\")\n",
    "\n",
    "# Cargar la colección\n",
    "collection.load()\n",
    "\n",
    "# Consultar todos los datos\n",
    "results = collection.query(expr=\"id >= 0\", output_fields=[\"id\", \"metadata\"], limit=10)\n",
    "\n",
    "print(f\"\\n=== DATOS ENCONTRADOS: {len(results)} entidades ===\")\n",
    "\n",
    "for i, result in enumerate(results):\n",
    "    print(f\"\\n--- Entidad {i+1} ---\")\n",
    "    print(f\"ID: {result['id']}\")\n",
    "    \n",
    "    # Mostrar metadatos de forma legible\n",
    "    metadata = result['metadata']\n",
    "    print(f\"Título: {metadata.get('title', 'N/A')}\")\n",
    "    print(f\"Idioma: {metadata.get('language', {}).get('lang', 'N/A')}\")\n",
    "    print(f\"Tokens: {metadata.get('token_count', 'N/A')}\")\n",
    "    print(f\"Keywords: {metadata.get('keywords', [])[:3]}...\")  # Solo las primeras 3\n",
    "    print(f\"Resumen: {metadata.get('summary', 'N/A')[:100]}...\")  # Solo los primeros 100 caracteres\n",
    "    \n",
    "    # Mostrar insights\n",
    "    insights = metadata.get('insights', [])\n",
    "    if insights:\n",
    "        print(f\"Insights: {len(insights)} encontrados\")\n",
    "        for j, insight in enumerate(insights[:2]):  # Solo los primeros 2\n",
    "            print(f\"  {j+1}. {insight[:80]}...\")\n",
    "    \n",
    "    # Mostrar estructura\n",
    "    structure = metadata.get('structure', [])\n",
    "    if structure:\n",
    "        print(f\"Estructura: {len(structure)} secciones\")\n",
    "        for j, section in enumerate(structure[:2]):  # Solo las primeras 2\n",
    "            print(f\"  {j+1}. {section.get('section_title', 'N/A')}\")\n",
    "\n",
    "print(\"\\n=== VERIFICACIÓN COMPLETADA ===\")\n",
    "print(\"Si ves datos aquí pero no en Attu, el problema es de visualización en Attu.\")\n",
    "print(\"Prueba a:\")\n",
    "print(\"1. Recargar la página de Attu\")\n",
    "print(\"2. Verificar que no hay filtros activos\")\n",
    "print(\"3. Hacer clic en el campo 'metadata' para expandirlo\")\n",
    "print(\"4. Reiniciar Attu si es necesario\")"
   ]
  },
  {
   "cell_type": "code",
   "execution_count": 16,
   "id": "e038c1d3-65d0-46b9-8002-7acf5edfaee8",
   "metadata": {},
   "outputs": [
    {
     "name": "stdout",
     "output_type": "stream",
     "text": [
      "=== PRUEBA DE BÚSQUEDA VECTORIAL ===\n",
      "Búsqueda completada. Resultados encontrados: 1\n",
      "\n",
      "--- Resultado 1 ---\n",
      "ID: 458955001465092393\n",
      "Distancia: 134.39529418945312\n",
      "Título: CONTRATO_COMPRAVENTA_INMUEBLE\n",
      "Keywords: ['CONTRATO DE COMPRAVENTA', 'INMUEBLE', 'VENDEDOR']...\n",
      "\n",
      "=== PRUEBA COMPLETADA ===\n",
      "Si ves resultados aquí, el pipeline está funcionando perfectamente.\n",
      "El problema es solo de visualización en Attu.\n"
     ]
    }
   ],
   "source": [
    "from pymilvus import connections, Collection\n",
    "import numpy as np\n",
    "\n",
    "# Conectar a Milvus\n",
    "connections.connect(\"default\", host=\"localhost\", port=\"19530\")\n",
    "collection = Collection(\"documentos_legales_v2\")\n",
    "\n",
    "print(\"=== PRUEBA DE BÚSQUEDA VECTORIAL ===\")\n",
    "\n",
    "# Cargar la colección\n",
    "collection.load()\n",
    "\n",
    "# Crear un vector de búsqueda (ejemplo: embedding de \"contrato compraventa\")\n",
    "# Usando un vector aleatorio de 384 dimensiones como ejemplo\n",
    "search_vector = np.random.rand(384).tolist()\n",
    "\n",
    "# Realizar búsqueda vectorial\n",
    "search_params = {\n",
    "    \"metric_type\": \"L2\",\n",
    "    \"params\": {\"nprobe\": 10}\n",
    "}\n",
    "\n",
    "results = collection.search(\n",
    "    data=[search_vector],\n",
    "    anns_field=\"embedding\", \n",
    "    param=search_params,\n",
    "    limit=5,\n",
    "    output_fields=[\"id\", \"metadata\"]\n",
    ")\n",
    "\n",
    "print(f\"Búsqueda completada. Resultados encontrados: {len(results[0])}\")\n",
    "\n",
    "for i, result in enumerate(results[0]):\n",
    "    print(f\"\\n--- Resultado {i+1} ---\")\n",
    "    print(f\"ID: {result.id}\")\n",
    "    print(f\"Distancia: {result.distance}\")\n",
    "    \n",
    "    metadata = result.entity.get('metadata')\n",
    "    if metadata:\n",
    "        print(f\"Título: {metadata.get('title', 'N/A')}\")\n",
    "        print(f\"Keywords: {metadata.get('keywords', [])[:3]}...\")\n",
    "\n",
    "print(\"\\n=== PRUEBA COMPLETADA ===\")\n",
    "print(\"Si ves resultados aquí, el pipeline está funcionando perfectamente.\")\n",
    "print(\"El problema es solo de visualización en Attu.\")"
   ]
  },
  {
   "cell_type": "code",
   "execution_count": 12,
   "id": "f37cb29e-2672-407c-8d97-bfb4669aea98",
   "metadata": {},
   "outputs": [
    {
     "name": "stdout",
     "output_type": "stream",
     "text": [
      "=== VERIFICACIÓN DEL SCHEMA ===\n",
      "Nombre de la colección: documentos_legales_v2\n",
      "\n",
      "=== CAMPOS DEL SCHEMA ===\n",
      "Campo: 'id'\n",
      "  - Tipo: 5\n",
      "  - Primary: True\n",
      "  - AutoID: True\n",
      "  - Dimensión: None\n",
      "\n",
      "Campo: 'embedding'\n",
      "  - Tipo: 101\n",
      "  - Primary: False\n",
      "  - AutoID: False\n",
      "  - Dimensión: 384\n",
      "\n",
      "Campo: 'metadata'\n",
      "  - Tipo: 23\n",
      "  - Primary: False\n",
      "  - AutoID: False\n",
      "  - Dimensión: None\n",
      "\n",
      "=== ÍNDICES ===\n",
      "Índice: {'metric_type': 'L2', 'index_type': 'IVF_FLAT', 'params': {'nlist': 128}}\n",
      "\n",
      "=== ESTADÍSTICAS ===\n",
      "Número de entidades: 0\n",
      "\n",
      "=== PRUEBA DE CONSULTA ===\n",
      "Campos disponibles en los resultados:\n",
      "  - id\n",
      "  - embedding\n",
      "  - metadata\n",
      "\n",
      "=== FIN ===\n"
     ]
    }
   ],
   "source": [
    "from pymilvus import connections, Collection\n",
    "\n",
    "# Conectar a Milvus\n",
    "connections.connect(\"default\", host=\"localhost\", port=\"19530\")\n",
    "collection = Collection(\"documentos_legales_v2\")\n",
    "\n",
    "print(\"=== VERIFICACIÓN DEL SCHEMA ===\")\n",
    "print(f\"Nombre de la colección: {collection.name}\")\n",
    "\n",
    "# Mostrar todos los campos del schema\n",
    "print(\"\\n=== CAMPOS DEL SCHEMA ===\")\n",
    "for field in collection.schema.fields:\n",
    "    print(f\"Campo: '{field.name}'\")\n",
    "    print(f\"  - Tipo: {field.dtype}\")\n",
    "    print(f\"  - Primary: {field.is_primary}\")\n",
    "    print(f\"  - AutoID: {field.auto_id}\")\n",
    "    if hasattr(field, 'dim'):\n",
    "        print(f\"  - Dimensión: {field.dim}\")\n",
    "    print()\n",
    "\n",
    "# Verificar si hay índices\n",
    "print(\"=== ÍNDICES ===\")\n",
    "try:\n",
    "    indexes = collection.indexes\n",
    "    for index in indexes:\n",
    "        print(f\"Índice: {index.params}\")\n",
    "except Exception as e:\n",
    "    print(f\"Error al obtener índices: {e}\")\n",
    "\n",
    "# Verificar el número de entidades\n",
    "print(f\"\\n=== ESTADÍSTICAS ===\")\n",
    "print(f\"Número de entidades: {collection.num_entities}\")\n",
    "\n",
    "# Intentar una consulta simple para ver qué campos están disponibles\n",
    "print(\"\\n=== PRUEBA DE CONSULTA ===\")\n",
    "try:\n",
    "    results = collection.query(expr=\"id >= 0\", output_fields=[\"*\"], limit=1)\n",
    "    if results:\n",
    "        print(\"Campos disponibles en los resultados:\")\n",
    "        for key in results[0].keys():\n",
    "            print(f\"  - {key}\")\n",
    "    else:\n",
    "        print(\"No hay resultados\")\n",
    "except Exception as e:\n",
    "    print(f\"Error en consulta: {e}\")\n",
    "\n",
    "print(\"\\n=== FIN ===\")\n"
   ]
  }
 ],
 "metadata": {
  "kernelspec": {
   "display_name": "Python 3 (ipykernel)",
   "language": "python",
   "name": "python3"
  },
  "language_info": {
   "codemirror_mode": {
    "name": "ipython",
    "version": 3
   },
   "file_extension": ".py",
   "mimetype": "text/x-python",
   "name": "python",
   "nbconvert_exporter": "python",
   "pygments_lexer": "ipython3",
   "version": "3.12.9"
  }
 },
 "nbformat": 4,
 "nbformat_minor": 5
}
